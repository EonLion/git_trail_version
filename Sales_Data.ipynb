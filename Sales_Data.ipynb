{
  "nbformat": 4,
  "nbformat_minor": 0,
  "metadata": {
    "colab": {
      "provenance": [],
      "authorship_tag": "ABX9TyN2EoL/O2U6LzmBYM58mefo",
      "include_colab_link": true
    },
    "kernelspec": {
      "name": "python3",
      "display_name": "Python 3"
    },
    "language_info": {
      "name": "python"
    }
  },
  "cells": [
    {
      "cell_type": "markdown",
      "metadata": {
        "id": "view-in-github",
        "colab_type": "text"
      },
      "source": [
        "<a href=\"https://colab.research.google.com/github/EonLion/git_trail_version/blob/main/Sales_Data.ipynb\" target=\"_parent\"><img src=\"https://colab.research.google.com/assets/colab-badge.svg\" alt=\"Open In Colab\"/></a>"
      ]
    },
    {
      "cell_type": "code",
      "execution_count": 1,
      "metadata": {
        "id": "iJeYXBwfnWf_"
      },
      "outputs": [],
      "source": [
        "import pandas as pd"
      ]
    },
    {
      "cell_type": "code",
      "source": [
        "sales_data = pd.read_excel('/content/Sample - Superstore.xls',sheet_name='Orders')"
      ],
      "metadata": {
        "id": "vEjgw_2rnj1b"
      },
      "execution_count": 3,
      "outputs": []
    },
    {
      "cell_type": "code",
      "source": [
        "sales_data.describe()"
      ],
      "metadata": {
        "colab": {
          "base_uri": "https://localhost:8080/",
          "height": 317
        },
        "id": "AqrfACoino5I",
        "outputId": "bc19a09f-8393-4f60-ed9a-6ed4d4d922ba"
      },
      "execution_count": 5,
      "outputs": [
        {
          "output_type": "execute_result",
          "data": {
            "text/plain": [
              "            Row ID                     Order Date  \\\n",
              "count  9995.000000                           9995   \n",
              "mean   4998.000000  2016-04-30 01:00:21.970985728   \n",
              "min       1.000000            2014-01-03 00:00:00   \n",
              "25%    2499.500000            2015-05-23 00:00:00   \n",
              "50%    4998.000000            2016-06-26 00:00:00   \n",
              "75%    7496.500000            2017-05-14 00:00:00   \n",
              "max    9995.000000            2017-12-30 00:00:00   \n",
              "std    2885.452304                            NaN   \n",
              "\n",
              "                           Ship Date   Postal Code         Sales     Quantity  \\\n",
              "count                           9995   9995.000000   9995.000000  9995.000000   \n",
              "mean   2016-05-04 00:00:17.288644096  55194.130565    229.859332     3.789395   \n",
              "min              2014-01-07 00:00:00   1040.000000      0.444000     1.000000   \n",
              "25%              2015-05-27 00:00:00  23223.000000     17.280000     2.000000   \n",
              "50%              2016-06-29 00:00:00  56560.000000     54.500000     3.000000   \n",
              "75%              2017-05-18 00:00:00  90008.000000    209.955000     5.000000   \n",
              "max              2018-01-05 00:00:00  99301.000000  22638.480000    14.000000   \n",
              "std                              NaN  32064.282332    623.213933     2.225070   \n",
              "\n",
              "          Discount       Profit  \n",
              "count  9995.000000  9995.000000  \n",
              "mean      0.156187    28.661328  \n",
              "min       0.000000 -6599.978000  \n",
              "25%       0.000000     1.729500  \n",
              "50%       0.200000     8.671000  \n",
              "75%       0.200000    29.364000  \n",
              "max       0.800000  8399.976000  \n",
              "std       0.206448   234.248806  "
            ],
            "text/html": [
              "\n",
              "  <div id=\"df-0f4b1266-2332-43d5-9d54-750ec0971ce8\" class=\"colab-df-container\">\n",
              "    <div>\n",
              "<style scoped>\n",
              "    .dataframe tbody tr th:only-of-type {\n",
              "        vertical-align: middle;\n",
              "    }\n",
              "\n",
              "    .dataframe tbody tr th {\n",
              "        vertical-align: top;\n",
              "    }\n",
              "\n",
              "    .dataframe thead th {\n",
              "        text-align: right;\n",
              "    }\n",
              "</style>\n",
              "<table border=\"1\" class=\"dataframe\">\n",
              "  <thead>\n",
              "    <tr style=\"text-align: right;\">\n",
              "      <th></th>\n",
              "      <th>Row ID</th>\n",
              "      <th>Order Date</th>\n",
              "      <th>Ship Date</th>\n",
              "      <th>Postal Code</th>\n",
              "      <th>Sales</th>\n",
              "      <th>Quantity</th>\n",
              "      <th>Discount</th>\n",
              "      <th>Profit</th>\n",
              "    </tr>\n",
              "  </thead>\n",
              "  <tbody>\n",
              "    <tr>\n",
              "      <th>count</th>\n",
              "      <td>9995.000000</td>\n",
              "      <td>9995</td>\n",
              "      <td>9995</td>\n",
              "      <td>9995.000000</td>\n",
              "      <td>9995.000000</td>\n",
              "      <td>9995.000000</td>\n",
              "      <td>9995.000000</td>\n",
              "      <td>9995.000000</td>\n",
              "    </tr>\n",
              "    <tr>\n",
              "      <th>mean</th>\n",
              "      <td>4998.000000</td>\n",
              "      <td>2016-04-30 01:00:21.970985728</td>\n",
              "      <td>2016-05-04 00:00:17.288644096</td>\n",
              "      <td>55194.130565</td>\n",
              "      <td>229.859332</td>\n",
              "      <td>3.789395</td>\n",
              "      <td>0.156187</td>\n",
              "      <td>28.661328</td>\n",
              "    </tr>\n",
              "    <tr>\n",
              "      <th>min</th>\n",
              "      <td>1.000000</td>\n",
              "      <td>2014-01-03 00:00:00</td>\n",
              "      <td>2014-01-07 00:00:00</td>\n",
              "      <td>1040.000000</td>\n",
              "      <td>0.444000</td>\n",
              "      <td>1.000000</td>\n",
              "      <td>0.000000</td>\n",
              "      <td>-6599.978000</td>\n",
              "    </tr>\n",
              "    <tr>\n",
              "      <th>25%</th>\n",
              "      <td>2499.500000</td>\n",
              "      <td>2015-05-23 00:00:00</td>\n",
              "      <td>2015-05-27 00:00:00</td>\n",
              "      <td>23223.000000</td>\n",
              "      <td>17.280000</td>\n",
              "      <td>2.000000</td>\n",
              "      <td>0.000000</td>\n",
              "      <td>1.729500</td>\n",
              "    </tr>\n",
              "    <tr>\n",
              "      <th>50%</th>\n",
              "      <td>4998.000000</td>\n",
              "      <td>2016-06-26 00:00:00</td>\n",
              "      <td>2016-06-29 00:00:00</td>\n",
              "      <td>56560.000000</td>\n",
              "      <td>54.500000</td>\n",
              "      <td>3.000000</td>\n",
              "      <td>0.200000</td>\n",
              "      <td>8.671000</td>\n",
              "    </tr>\n",
              "    <tr>\n",
              "      <th>75%</th>\n",
              "      <td>7496.500000</td>\n",
              "      <td>2017-05-14 00:00:00</td>\n",
              "      <td>2017-05-18 00:00:00</td>\n",
              "      <td>90008.000000</td>\n",
              "      <td>209.955000</td>\n",
              "      <td>5.000000</td>\n",
              "      <td>0.200000</td>\n",
              "      <td>29.364000</td>\n",
              "    </tr>\n",
              "    <tr>\n",
              "      <th>max</th>\n",
              "      <td>9995.000000</td>\n",
              "      <td>2017-12-30 00:00:00</td>\n",
              "      <td>2018-01-05 00:00:00</td>\n",
              "      <td>99301.000000</td>\n",
              "      <td>22638.480000</td>\n",
              "      <td>14.000000</td>\n",
              "      <td>0.800000</td>\n",
              "      <td>8399.976000</td>\n",
              "    </tr>\n",
              "    <tr>\n",
              "      <th>std</th>\n",
              "      <td>2885.452304</td>\n",
              "      <td>NaN</td>\n",
              "      <td>NaN</td>\n",
              "      <td>32064.282332</td>\n",
              "      <td>623.213933</td>\n",
              "      <td>2.225070</td>\n",
              "      <td>0.206448</td>\n",
              "      <td>234.248806</td>\n",
              "    </tr>\n",
              "  </tbody>\n",
              "</table>\n",
              "</div>\n",
              "    <div class=\"colab-df-buttons\">\n",
              "\n",
              "  <div class=\"colab-df-container\">\n",
              "    <button class=\"colab-df-convert\" onclick=\"convertToInteractive('df-0f4b1266-2332-43d5-9d54-750ec0971ce8')\"\n",
              "            title=\"Convert this dataframe to an interactive table.\"\n",
              "            style=\"display:none;\">\n",
              "\n",
              "  <svg xmlns=\"http://www.w3.org/2000/svg\" height=\"24px\" viewBox=\"0 -960 960 960\">\n",
              "    <path d=\"M120-120v-720h720v720H120Zm60-500h600v-160H180v160Zm220 220h160v-160H400v160Zm0 220h160v-160H400v160ZM180-400h160v-160H180v160Zm440 0h160v-160H620v160ZM180-180h160v-160H180v160Zm440 0h160v-160H620v160Z\"/>\n",
              "  </svg>\n",
              "    </button>\n",
              "\n",
              "  <style>\n",
              "    .colab-df-container {\n",
              "      display:flex;\n",
              "      gap: 12px;\n",
              "    }\n",
              "\n",
              "    .colab-df-convert {\n",
              "      background-color: #E8F0FE;\n",
              "      border: none;\n",
              "      border-radius: 50%;\n",
              "      cursor: pointer;\n",
              "      display: none;\n",
              "      fill: #1967D2;\n",
              "      height: 32px;\n",
              "      padding: 0 0 0 0;\n",
              "      width: 32px;\n",
              "    }\n",
              "\n",
              "    .colab-df-convert:hover {\n",
              "      background-color: #E2EBFA;\n",
              "      box-shadow: 0px 1px 2px rgba(60, 64, 67, 0.3), 0px 1px 3px 1px rgba(60, 64, 67, 0.15);\n",
              "      fill: #174EA6;\n",
              "    }\n",
              "\n",
              "    .colab-df-buttons div {\n",
              "      margin-bottom: 4px;\n",
              "    }\n",
              "\n",
              "    [theme=dark] .colab-df-convert {\n",
              "      background-color: #3B4455;\n",
              "      fill: #D2E3FC;\n",
              "    }\n",
              "\n",
              "    [theme=dark] .colab-df-convert:hover {\n",
              "      background-color: #434B5C;\n",
              "      box-shadow: 0px 1px 3px 1px rgba(0, 0, 0, 0.15);\n",
              "      filter: drop-shadow(0px 1px 2px rgba(0, 0, 0, 0.3));\n",
              "      fill: #FFFFFF;\n",
              "    }\n",
              "  </style>\n",
              "\n",
              "    <script>\n",
              "      const buttonEl =\n",
              "        document.querySelector('#df-0f4b1266-2332-43d5-9d54-750ec0971ce8 button.colab-df-convert');\n",
              "      buttonEl.style.display =\n",
              "        google.colab.kernel.accessAllowed ? 'block' : 'none';\n",
              "\n",
              "      async function convertToInteractive(key) {\n",
              "        const element = document.querySelector('#df-0f4b1266-2332-43d5-9d54-750ec0971ce8');\n",
              "        const dataTable =\n",
              "          await google.colab.kernel.invokeFunction('convertToInteractive',\n",
              "                                                    [key], {});\n",
              "        if (!dataTable) return;\n",
              "\n",
              "        const docLinkHtml = 'Like what you see? Visit the ' +\n",
              "          '<a target=\"_blank\" href=https://colab.research.google.com/notebooks/data_table.ipynb>data table notebook</a>'\n",
              "          + ' to learn more about interactive tables.';\n",
              "        element.innerHTML = '';\n",
              "        dataTable['output_type'] = 'display_data';\n",
              "        await google.colab.output.renderOutput(dataTable, element);\n",
              "        const docLink = document.createElement('div');\n",
              "        docLink.innerHTML = docLinkHtml;\n",
              "        element.appendChild(docLink);\n",
              "      }\n",
              "    </script>\n",
              "  </div>\n",
              "\n",
              "\n",
              "<div id=\"df-aba9bfd0-fa48-4a5e-aa88-373f889fc5b9\">\n",
              "  <button class=\"colab-df-quickchart\" onclick=\"quickchart('df-aba9bfd0-fa48-4a5e-aa88-373f889fc5b9')\"\n",
              "            title=\"Suggest charts\"\n",
              "            style=\"display:none;\">\n",
              "\n",
              "<svg xmlns=\"http://www.w3.org/2000/svg\" height=\"24px\"viewBox=\"0 0 24 24\"\n",
              "     width=\"24px\">\n",
              "    <g>\n",
              "        <path d=\"M19 3H5c-1.1 0-2 .9-2 2v14c0 1.1.9 2 2 2h14c1.1 0 2-.9 2-2V5c0-1.1-.9-2-2-2zM9 17H7v-7h2v7zm4 0h-2V7h2v10zm4 0h-2v-4h2v4z\"/>\n",
              "    </g>\n",
              "</svg>\n",
              "  </button>\n",
              "\n",
              "<style>\n",
              "  .colab-df-quickchart {\n",
              "      --bg-color: #E8F0FE;\n",
              "      --fill-color: #1967D2;\n",
              "      --hover-bg-color: #E2EBFA;\n",
              "      --hover-fill-color: #174EA6;\n",
              "      --disabled-fill-color: #AAA;\n",
              "      --disabled-bg-color: #DDD;\n",
              "  }\n",
              "\n",
              "  [theme=dark] .colab-df-quickchart {\n",
              "      --bg-color: #3B4455;\n",
              "      --fill-color: #D2E3FC;\n",
              "      --hover-bg-color: #434B5C;\n",
              "      --hover-fill-color: #FFFFFF;\n",
              "      --disabled-bg-color: #3B4455;\n",
              "      --disabled-fill-color: #666;\n",
              "  }\n",
              "\n",
              "  .colab-df-quickchart {\n",
              "    background-color: var(--bg-color);\n",
              "    border: none;\n",
              "    border-radius: 50%;\n",
              "    cursor: pointer;\n",
              "    display: none;\n",
              "    fill: var(--fill-color);\n",
              "    height: 32px;\n",
              "    padding: 0;\n",
              "    width: 32px;\n",
              "  }\n",
              "\n",
              "  .colab-df-quickchart:hover {\n",
              "    background-color: var(--hover-bg-color);\n",
              "    box-shadow: 0 1px 2px rgba(60, 64, 67, 0.3), 0 1px 3px 1px rgba(60, 64, 67, 0.15);\n",
              "    fill: var(--button-hover-fill-color);\n",
              "  }\n",
              "\n",
              "  .colab-df-quickchart-complete:disabled,\n",
              "  .colab-df-quickchart-complete:disabled:hover {\n",
              "    background-color: var(--disabled-bg-color);\n",
              "    fill: var(--disabled-fill-color);\n",
              "    box-shadow: none;\n",
              "  }\n",
              "\n",
              "  .colab-df-spinner {\n",
              "    border: 2px solid var(--fill-color);\n",
              "    border-color: transparent;\n",
              "    border-bottom-color: var(--fill-color);\n",
              "    animation:\n",
              "      spin 1s steps(1) infinite;\n",
              "  }\n",
              "\n",
              "  @keyframes spin {\n",
              "    0% {\n",
              "      border-color: transparent;\n",
              "      border-bottom-color: var(--fill-color);\n",
              "      border-left-color: var(--fill-color);\n",
              "    }\n",
              "    20% {\n",
              "      border-color: transparent;\n",
              "      border-left-color: var(--fill-color);\n",
              "      border-top-color: var(--fill-color);\n",
              "    }\n",
              "    30% {\n",
              "      border-color: transparent;\n",
              "      border-left-color: var(--fill-color);\n",
              "      border-top-color: var(--fill-color);\n",
              "      border-right-color: var(--fill-color);\n",
              "    }\n",
              "    40% {\n",
              "      border-color: transparent;\n",
              "      border-right-color: var(--fill-color);\n",
              "      border-top-color: var(--fill-color);\n",
              "    }\n",
              "    60% {\n",
              "      border-color: transparent;\n",
              "      border-right-color: var(--fill-color);\n",
              "    }\n",
              "    80% {\n",
              "      border-color: transparent;\n",
              "      border-right-color: var(--fill-color);\n",
              "      border-bottom-color: var(--fill-color);\n",
              "    }\n",
              "    90% {\n",
              "      border-color: transparent;\n",
              "      border-bottom-color: var(--fill-color);\n",
              "    }\n",
              "  }\n",
              "</style>\n",
              "\n",
              "  <script>\n",
              "    async function quickchart(key) {\n",
              "      const quickchartButtonEl =\n",
              "        document.querySelector('#' + key + ' button');\n",
              "      quickchartButtonEl.disabled = true;  // To prevent multiple clicks.\n",
              "      quickchartButtonEl.classList.add('colab-df-spinner');\n",
              "      try {\n",
              "        const charts = await google.colab.kernel.invokeFunction(\n",
              "            'suggestCharts', [key], {});\n",
              "      } catch (error) {\n",
              "        console.error('Error during call to suggestCharts:', error);\n",
              "      }\n",
              "      quickchartButtonEl.classList.remove('colab-df-spinner');\n",
              "      quickchartButtonEl.classList.add('colab-df-quickchart-complete');\n",
              "    }\n",
              "    (() => {\n",
              "      let quickchartButtonEl =\n",
              "        document.querySelector('#df-aba9bfd0-fa48-4a5e-aa88-373f889fc5b9 button');\n",
              "      quickchartButtonEl.style.display =\n",
              "        google.colab.kernel.accessAllowed ? 'block' : 'none';\n",
              "    })();\n",
              "  </script>\n",
              "</div>\n",
              "\n",
              "    </div>\n",
              "  </div>\n"
            ],
            "application/vnd.google.colaboratory.intrinsic+json": {
              "type": "dataframe",
              "summary": "{\n  \"name\": \"sales_data\",\n  \"rows\": 8,\n  \"fields\": [\n    {\n      \"column\": \"Row ID\",\n      \"properties\": {\n        \"dtype\": \"number\",\n        \"std\": 3601.9415623475925,\n        \"min\": 1.0,\n        \"max\": 9995.0,\n        \"num_unique_values\": 6,\n        \"samples\": [\n          9995.0,\n          4998.0,\n          2885.4523042323885\n        ],\n        \"semantic_type\": \"\",\n        \"description\": \"\"\n      }\n    },\n    {\n      \"column\": \"Order Date\",\n      \"properties\": {\n        \"dtype\": \"date\",\n        \"min\": \"1970-01-01 00:00:00.000009995\",\n        \"max\": \"2017-12-30 00:00:00\",\n        \"num_unique_values\": 7,\n        \"samples\": [\n          \"9995\",\n          \"2016-04-30 01:00:21.970985728\",\n          \"2017-05-14 00:00:00\"\n        ],\n        \"semantic_type\": \"\",\n        \"description\": \"\"\n      }\n    },\n    {\n      \"column\": \"Ship Date\",\n      \"properties\": {\n        \"dtype\": \"date\",\n        \"min\": \"1970-01-01 00:00:00.000009995\",\n        \"max\": \"2018-01-05 00:00:00\",\n        \"num_unique_values\": 7,\n        \"samples\": [\n          \"9995\",\n          \"2016-05-04 00:00:17.288644096\",\n          \"2017-05-18 00:00:00\"\n        ],\n        \"semantic_type\": \"\",\n        \"description\": \"\"\n      }\n    },\n    {\n      \"column\": \"Postal Code\",\n      \"properties\": {\n        \"dtype\": \"number\",\n        \"std\": 35865.73507661983,\n        \"min\": 1040.0,\n        \"max\": 99301.0,\n        \"num_unique_values\": 8,\n        \"samples\": [\n          55194.13056528264,\n          90008.0,\n          9995.0\n        ],\n        \"semantic_type\": \"\",\n        \"description\": \"\"\n      }\n    },\n    {\n      \"column\": \"Sales\",\n      \"properties\": {\n        \"dtype\": \"number\",\n        \"std\": 8197.111624845618,\n        \"min\": 0.44399999999999995,\n        \"max\": 22638.48,\n        \"num_unique_values\": 8,\n        \"samples\": [\n          229.8593316958479,\n          209.95499999999998,\n          9995.0\n        ],\n        \"semantic_type\": \"\",\n        \"description\": \"\"\n      }\n    },\n    {\n      \"column\": \"Quantity\",\n      \"properties\": {\n        \"dtype\": \"number\",\n        \"std\": 3532.20203583575,\n        \"min\": 1.0,\n        \"max\": 9995.0,\n        \"num_unique_values\": 8,\n        \"samples\": [\n          3.7893946973486745,\n          5.0,\n          9995.0\n        ],\n        \"semantic_type\": \"\",\n        \"description\": \"\"\n      }\n    },\n    {\n      \"column\": \"Discount\",\n      \"properties\": {\n        \"dtype\": \"number\",\n        \"std\": 3533.6872228688962,\n        \"min\": 0.0,\n        \"max\": 9995.0,\n        \"num_unique_values\": 6,\n        \"samples\": [\n          9995.0,\n          0.15618709354677338,\n          0.20644755113181842\n        ],\n        \"semantic_type\": \"\",\n        \"description\": \"\"\n      }\n    },\n    {\n      \"column\": \"Profit\",\n      \"properties\": {\n        \"dtype\": \"number\",\n        \"std\": 5288.555776434532,\n        \"min\": -6599.978000000001,\n        \"max\": 9995.0,\n        \"num_unique_values\": 8,\n        \"samples\": [\n          28.661327633816903,\n          29.363999999999997,\n          9995.0\n        ],\n        \"semantic_type\": \"\",\n        \"description\": \"\"\n      }\n    }\n  ]\n}"
            }
          },
          "metadata": {},
          "execution_count": 5
        }
      ]
    },
    {
      "cell_type": "code",
      "source": [
        "sales_data.info()"
      ],
      "metadata": {
        "colab": {
          "base_uri": "https://localhost:8080/"
        },
        "id": "R2uI0qmfnvO_",
        "outputId": "875550e6-a347-4fe6-8592-4c11f1be7c9f"
      },
      "execution_count": 6,
      "outputs": [
        {
          "output_type": "stream",
          "name": "stdout",
          "text": [
            "<class 'pandas.core.frame.DataFrame'>\n",
            "RangeIndex: 9995 entries, 0 to 9994\n",
            "Data columns (total 21 columns):\n",
            " #   Column         Non-Null Count  Dtype         \n",
            "---  ------         --------------  -----         \n",
            " 0   Row ID         9995 non-null   int64         \n",
            " 1   Order ID       9995 non-null   object        \n",
            " 2   Order Date     9995 non-null   datetime64[ns]\n",
            " 3   Ship Date      9995 non-null   datetime64[ns]\n",
            " 4   Ship Mode      9995 non-null   object        \n",
            " 5   Customer ID    9995 non-null   object        \n",
            " 6   Customer Name  9995 non-null   object        \n",
            " 7   Segment        9995 non-null   object        \n",
            " 8   Country        9995 non-null   object        \n",
            " 9   City           9995 non-null   object        \n",
            " 10  State          9995 non-null   object        \n",
            " 11  Postal Code    9995 non-null   int64         \n",
            " 12  Region         9995 non-null   object        \n",
            " 13  Product ID     9995 non-null   object        \n",
            " 14  Category       9995 non-null   object        \n",
            " 15  Sub-Category   9995 non-null   object        \n",
            " 16  Product Name   9995 non-null   object        \n",
            " 17  Sales          9995 non-null   float64       \n",
            " 18  Quantity       9995 non-null   int64         \n",
            " 19  Discount       9995 non-null   float64       \n",
            " 20  Profit         9995 non-null   float64       \n",
            "dtypes: datetime64[ns](2), float64(3), int64(3), object(13)\n",
            "memory usage: 1.6+ MB\n"
          ]
        }
      ]
    },
    {
      "cell_type": "code",
      "source": [
        "correlation = sales_data['Sales'].corr(sales_data['Profit'])"
      ],
      "metadata": {
        "id": "5v7zqFfkn0mg"
      },
      "execution_count": 7,
      "outputs": []
    },
    {
      "cell_type": "markdown",
      "source": [
        "**Correlation between sales and profit**"
      ],
      "metadata": {
        "id": "p-Z3QeNDoYCN"
      }
    },
    {
      "cell_type": "code",
      "source": [
        "correlation"
      ],
      "metadata": {
        "colab": {
          "base_uri": "https://localhost:8080/"
        },
        "id": "p05aGXS1oERp",
        "outputId": "f6201498-7115-48c1-e430-9d91862511d1"
      },
      "execution_count": 8,
      "outputs": [
        {
          "output_type": "execute_result",
          "data": {
            "text/plain": [
              "0.4790638858306958"
            ]
          },
          "metadata": {},
          "execution_count": 8
        }
      ]
    },
    {
      "cell_type": "markdown",
      "source": [
        "**Correlation between Discount and Profit**"
      ],
      "metadata": {
        "id": "ClVjv0N1ovQ8"
      }
    },
    {
      "cell_type": "code",
      "source": [
        "sales_data['Discount'].corr(sales_data['Profit'])"
      ],
      "metadata": {
        "colab": {
          "base_uri": "https://localhost:8080/"
        },
        "id": "oi3zP-faoGTE",
        "outputId": "d3cff2b8-7f11-401c-eb1e-43838a44fe83"
      },
      "execution_count": 9,
      "outputs": [
        {
          "output_type": "execute_result",
          "data": {
            "text/plain": [
              "-0.21949509119489255"
            ]
          },
          "metadata": {},
          "execution_count": 9
        }
      ]
    },
    {
      "cell_type": "code",
      "source": [],
      "metadata": {
        "id": "7672IQXxpQAe"
      },
      "execution_count": null,
      "outputs": []
    }
  ]
}